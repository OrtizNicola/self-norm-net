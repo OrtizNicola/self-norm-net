{
 "cells": [
  {
   "cell_type": "markdown",
   "id": "d62b4115-71d7-4f71-9400-54c7eb54cdb9",
   "metadata": {},
   "source": [
    "# Self Normalizing Neural Net"
   ]
  },
  {
   "cell_type": "markdown",
   "id": "42b76cae-4c41-4a86-8fc9-a0d6eeb18cdb",
   "metadata": {},
   "source": [
    "Before people came up with ideas such as batchnorm and smarter initializations for the weights of Deep Neural Networks, exploding and vanishing gradients were very problematic.\n",
    "\n",
    "Here, we'll implement a self normalizing neural net that (without BN) is going to preserve the scales of its values troughout the net as in [Klambauer et al. (2017)](https://papers.nips.cc/paper_files/paper/2017/file/5d44ee6f2c3f71b73125876103c8f6c4-Paper.pdf)\n"
   ]
  },
  {
   "cell_type": "code",
   "execution_count": 4,
   "id": "c1519948-a2d8-423a-9ab7-2670bb55a99f",
   "metadata": {},
   "outputs": [],
   "source": [
    "import tensorflow as tf\n",
    "import tensorflow.keras.layers as layers\n",
    "import tensorflow.keras.callbacks as callbacks\n",
    "import matplotlib.pyplot as plt\n",
    "import numpy as np\n",
    "import keras.layers"
   ]
  },
  {
   "cell_type": "code",
   "execution_count": 2,
   "id": "c8a3c255-86a1-4a75-9e77-f7f37efd51aa",
   "metadata": {},
   "outputs": [],
   "source": [
    "(xTrain, yTrain), (xTest, yTest) = tf.keras.datasets.cifar10.load_data()"
   ]
  },
  {
   "cell_type": "code",
   "execution_count": 3,
   "id": "d1706f6f-374d-415f-93f1-54ce0c6adece",
   "metadata": {},
   "outputs": [],
   "source": [
    "tf.keras.backend.clear_session()\n",
    "tf.random.set_seed(42)"
   ]
  },
  {
   "cell_type": "code",
   "execution_count": 120,
   "id": "aab9b6c4-72f4-480a-8d5d-167a82ba123c",
   "metadata": {},
   "outputs": [],
   "source": [
    "def buildModel(nHiddenLayers=20, nHiddenNeurons=100):\n",
    "    inputLayer = layers.Input(shape=(32, 32, 3))\n",
    "    x = layers.Flatten()(inputLayer)\n",
    "    for _ in range(nHiddenLayers):\n",
    "        x = layers.Dense(nHiddenNeurons, \n",
    "                         kernel_initializer=\"he_normal\",\n",
    "                         activation=\"swish\")(x)\n",
    "    outputLayer = layers.Dense(10, activation=\"softmax\")(x)\n",
    "    return tf.keras.Model(inputLayer, outputLayer)"
   ]
  },
  {
   "cell_type": "code",
   "execution_count": 121,
   "id": "2b088e83-f08a-4d27-8a4a-d20738b9b9bd",
   "metadata": {},
   "outputs": [],
   "source": [
    "model = buildModel()"
   ]
  },
  {
   "cell_type": "code",
   "execution_count": 122,
   "id": "fef8dddb-30fe-4562-8bc1-1ea5125f51a1",
   "metadata": {},
   "outputs": [],
   "source": [
    "class ExpLearningRate(callbacks.Callback):\n",
    "    def __init__(self, factor):\n",
    "        self.factor = factor\n",
    "        self.rates = []\n",
    "        self.lossi = []\n",
    "    def on_batch_end(self, batch, logs=None):\n",
    "        if np.isnan(logs[\"loss\"]):\n",
    "            print(f\"\\nTraining stopped: NaN loss detected at batch {batch}.\\n\")\n",
    "            self.model.stop_training = True\n",
    "        lr = self.model.optimizer.learning_rate.numpy() * (1 + self.factor / 100)\n",
    "        self.model.optimizer.learning_rate = lr\n",
    "        self.rates.append(lr)\n",
    "        self.lossi.append(logs[\"loss\"])"
   ]
  },
  {
   "cell_type": "code",
   "execution_count": 123,
   "id": "a7229da7-6a53-46a0-bbe8-6be590f3703f",
   "metadata": {},
   "outputs": [],
   "source": [
    "optimizer = tf.keras.optimizers.Nadam(learning_rate=1e-5)\n",
    "model.compile(loss=\"sparse_categorical_crossentropy\", \n",
    "              optimizer=optimizer,\n",
    "              metrics=[\"accuracy\"])\n",
    "expLR = ExpLearningRate(factor=1) # increase lr 1% each epoch"
   ]
  },
  {
   "cell_type": "code",
   "execution_count": 124,
   "id": "91643ec5-d12a-4c22-ae24-f16d9d88f3c1",
   "metadata": {},
   "outputs": [
    {
     "name": "stdout",
     "output_type": "stream",
     "text": [
      "1250/1250 [==============================] - 37s 26ms/step - loss: 3014.3003 - accuracy: 0.1107 - val_loss: 2.3814 - val_accuracy: 0.1016\n"
     ]
    }
   ],
   "source": [
    "history = model.fit(xTrain, yTrain, epochs=1,\n",
    "                    validation_split=0.2,\n",
    "                    batch_size=32,\n",
    "                    callbacks=[expLR])"
   ]
  },
  {
   "cell_type": "code",
   "execution_count": 125,
   "id": "eda1e463-de4e-4482-a405-7fea9feb7d91",
   "metadata": {},
   "outputs": [
    {
     "data": {
      "image/png": "[encoded data removed]",
      "text/plain": [
       "<Figure size 640x480 with 1 Axes>"
      ]
     },
     "metadata": {},
     "output_type": "display_data"
    }
   ],
   "source": [
    "plt.plot(expLR.rates, expLR.lossi)\n",
    "plt.gca().set_xscale('log')\n",
    "plt.hlines([min(expLR.lossi)], \n",
    "           min(expLR.rates), expLR.rates[np.argmin(expLR.lossi)],\"r\", linestyles=\"--\")\n",
    "plt.vlines([expLR.rates[np.argmin(expLR.lossi)]], \n",
    "           0, min(expLR.lossi), \"r\", linestyles=\"--\")\n",
    "plt.plot(expLR.rates[np.argmin(expLR.lossi)], min(expLR.lossi), \"ro\")\n",
    "plt.axis([min(expLR.rates), max(expLR.rates), 0, expLR.lossi[0]])\n",
    "plt.grid()\n",
    "plt.xlabel(\"Learning rate\")\n",
    "plt.ylabel(\"Loss\");"
   ]
  },
  {
   "cell_type": "code",
   "execution_count": 126,
   "id": "8358e995-3c8f-405e-abb6-19de55bc8eee",
   "metadata": {},
   "outputs": [
    {
     "data": {
      "text/plain": [
       "0.005677822078578174"
      ]
     },
     "execution_count": 126,
     "metadata": {},
     "output_type": "execute_result"
    }
   ],
   "source": [
    "optimLR = expLR.rates[np.argmin(expLR.lossi)] / 2\n",
    "optimLR"
   ]
  },
  {
   "cell_type": "code",
   "execution_count": 127,
   "id": "bed6e15e-2313-4463-87d5-41ec822185ee",
   "metadata": {},
   "outputs": [
    {
     "name": "stdout",
     "output_type": "stream",
     "text": [
      "Epoch 1/100\n",
      "1250/1250 [==============================] - 47s 33ms/step - loss: 9.9387 - accuracy: 0.2196 - val_loss: 1.9568 - val_accuracy: 0.2617\n",
      "Epoch 2/100\n",
      "1250/1250 [==============================] - 28s 22ms/step - loss: 1.9872 - accuracy: 0.2526 - val_loss: 1.9369 - val_accuracy: 0.2786\n",
      "Epoch 3/100\n",
      "1250/1250 [==============================] - 25s 20ms/step - loss: 1.9145 - accuracy: 0.2873 - val_loss: 1.8856 - val_accuracy: 0.2988\n",
      "Epoch 4/100\n",
      "1250/1250 [==============================] - 27s 22ms/step - loss: 1373.8926 - accuracy: 0.1854 - val_loss: 2.3133 - val_accuracy: 0.0979\n",
      "Epoch 5/100\n",
      "1250/1250 [==============================] - 35s 28ms/step - loss: 2.7730 - accuracy: 0.1022 - val_loss: 2.3033 - val_accuracy: 0.1003\n",
      "Epoch 6/100\n",
      "1250/1250 [==============================] - 34s 28ms/step - loss: 2.3035 - accuracy: 0.0979 - val_loss: 2.3036 - val_accuracy: 0.0952\n",
      "Epoch 7/100\n",
      "1250/1250 [==============================] - 33s 27ms/step - loss: 2.3033 - accuracy: 0.1004 - val_loss: 2.3032 - val_accuracy: 0.1016\n",
      "Epoch 8/100\n",
      "1250/1250 [==============================] - 37s 30ms/step - loss: 2.3033 - accuracy: 0.0982 - val_loss: 2.3037 - val_accuracy: 0.0952\n"
     ]
    }
   ],
   "source": [
    "tf.keras.backend.clear_session()\n",
    "tf.random.set_seed(42)\n",
    "\n",
    "model = buildModel()\n",
    "\n",
    "early_stopping_cb = callbacks.EarlyStopping(patience=5,\n",
    "                                            restore_best_weights=True)\n",
    "model_checkpoint_cb = callbacks.ModelCheckpoint(\"my_cifar10_model.keras\",\n",
    "                                                save_best_only=True)\n",
    "\n",
    "optimizer = tf.keras.optimizers.Nadam(learning_rate=optimLR)\n",
    "model.compile(loss=\"sparse_categorical_crossentropy\", \n",
    "              optimizer=optimizer,\n",
    "              metrics=[\"accuracy\"])\n",
    "\n",
    "history = model.fit(xTrain, yTrain, epochs=100,\n",
    "                    validation_split=0.2,\n",
    "                    batch_size=32,\n",
    "                    callbacks=[early_stopping_cb, model_checkpoint_cb])"
   ]
  },
  {
   "cell_type": "code",
   "execution_count": 156,
   "id": "a3c81f10-550c-4591-8ece-46b91ee9c51f",
   "metadata": {},
   "outputs": [
    {
     "data": {
      "image/png": "[encoded data removed]",
      "text/plain": [
       "<Figure size 800x500 with 1 Axes>"
      ]
     },
     "metadata": {},
     "output_type": "display_data"
    }
   ],
   "source": [
    "plt.figure(figsize=(8, 5))\n",
    "for key, style in zip(history.history, [\"g--\", \"y--.\", \"r-\", \"b-*\"]):\n",
    "    epochs = np.array(history.epoch) + (0 if key.startswith(\"val_\") else -0.5)\n",
    "    plt.plot(epochs, history.history[key], style, label=key, alpha=0.75)\n",
    "plt.xlabel(\"Epoch\")\n",
    "plt.axis([-0.5, 7, 0., 5])\n",
    "plt.legend()\n",
    "plt.grid()\n",
    "plt.show()"
   ]
  },
  {
   "cell_type": "markdown",
   "id": "beeb54d5-7ca7-4163-8d8e-6b0fda37c701",
   "metadata": {},
   "source": [
    "The model doesn't converge even though we've set the learning rate to be the recommended (half of the lr when the loss starts to grow to infinity in the last plot). This is due to the network not having anything to normalize its values, thus, the gradients are very unstable. Let's try with a smaller learning rate."
   ]
  },
  {
   "cell_type": "code",
   "execution_count": 157,
   "id": "f3ae8965-be0c-47af-b037-dca97a6aaa2c",
   "metadata": {},
   "outputs": [
    {
     "name": "stdout",
     "output_type": "stream",
     "text": [
      "Epoch 1/100\n",
      "1250/1250 [==============================] - 47s 25ms/step - loss: 2.9665 - accuracy: 0.2114 - val_loss: 1.9904 - val_accuracy: 0.2534\n",
      "Epoch 2/100\n",
      "1250/1250 [==============================] - 35s 28ms/step - loss: 1.9447 - accuracy: 0.2721 - val_loss: 1.8733 - val_accuracy: 0.3116\n",
      "Epoch 3/100\n",
      "1250/1250 [==============================] - 30s 24ms/step - loss: 1.8799 - accuracy: 0.3034 - val_loss: 1.9243 - val_accuracy: 0.2867\n",
      "Epoch 4/100\n",
      "1250/1250 [==============================] - 38s 31ms/step - loss: 1.8418 - accuracy: 0.3207 - val_loss: 1.8186 - val_accuracy: 0.3230\n",
      "Epoch 5/100\n",
      "1250/1250 [==============================] - 31s 25ms/step - loss: 1.8067 - accuracy: 0.3364 - val_loss: 1.7865 - val_accuracy: 0.3495\n",
      "Epoch 6/100\n",
      "1250/1250 [==============================] - 26s 21ms/step - loss: 1.7791 - accuracy: 0.3515 - val_loss: 1.8219 - val_accuracy: 0.3468\n",
      "Epoch 7/100\n",
      "1250/1250 [==============================] - 30s 24ms/step - loss: 1.7480 - accuracy: 0.3649 - val_loss: 1.7592 - val_accuracy: 0.3530\n",
      "Epoch 8/100\n",
      "1250/1250 [==============================] - 35s 28ms/step - loss: 1.7246 - accuracy: 0.3751 - val_loss: 1.7503 - val_accuracy: 0.3764\n",
      "Epoch 9/100\n",
      "1250/1250 [==============================] - 56s 45ms/step - loss: 1.6960 - accuracy: 0.3891 - val_loss: 1.7168 - val_accuracy: 0.3795\n",
      "Epoch 10/100\n",
      "1250/1250 [==============================] - 40s 32ms/step - loss: 1.6753 - accuracy: 0.3970 - val_loss: 1.6774 - val_accuracy: 0.3972\n",
      "Epoch 11/100\n",
      "1250/1250 [==============================] - 46s 37ms/step - loss: 1.6597 - accuracy: 0.4059 - val_loss: 1.6860 - val_accuracy: 0.3941\n",
      "Epoch 12/100\n",
      "1250/1250 [==============================] - 47s 38ms/step - loss: 1.6363 - accuracy: 0.4115 - val_loss: 1.6624 - val_accuracy: 0.4098\n",
      "Epoch 13/100\n",
      "1250/1250 [==============================] - 27s 21ms/step - loss: 1.6255 - accuracy: 0.4148 - val_loss: 1.7221 - val_accuracy: 0.3838\n",
      "Epoch 14/100\n",
      "1250/1250 [==============================] - 46s 37ms/step - loss: 1.6117 - accuracy: 0.4229 - val_loss: 1.6565 - val_accuracy: 0.4075\n",
      "Epoch 15/100\n",
      "1250/1250 [==============================] - 24s 19ms/step - loss: 1.5928 - accuracy: 0.4248 - val_loss: 1.6528 - val_accuracy: 0.4050\n",
      "Epoch 16/100\n",
      "1250/1250 [==============================] - 47s 37ms/step - loss: 1.5842 - accuracy: 0.4301 - val_loss: 1.6618 - val_accuracy: 0.4070\n",
      "Epoch 17/100\n",
      "1250/1250 [==============================] - 39s 31ms/step - loss: 1.5734 - accuracy: 0.4345 - val_loss: 1.6304 - val_accuracy: 0.4219\n",
      "Epoch 18/100\n",
      "1250/1250 [==============================] - 35s 28ms/step - loss: 1.5648 - accuracy: 0.4360 - val_loss: 1.7082 - val_accuracy: 0.4011\n",
      "Epoch 19/100\n",
      "1250/1250 [==============================] - 38s 30ms/step - loss: 1.5575 - accuracy: 0.4418 - val_loss: 1.5908 - val_accuracy: 0.4339\n",
      "Epoch 20/100\n",
      "1250/1250 [==============================] - 28s 23ms/step - loss: 1.5453 - accuracy: 0.4462 - val_loss: 1.6143 - val_accuracy: 0.4241\n",
      "Epoch 21/100\n",
      "1250/1250 [==============================] - 36s 29ms/step - loss: 1.5421 - accuracy: 0.4469 - val_loss: 1.6833 - val_accuracy: 0.4070\n",
      "Epoch 22/100\n",
      "1250/1250 [==============================] - 28s 23ms/step - loss: 1.5291 - accuracy: 0.4509 - val_loss: 1.6441 - val_accuracy: 0.4199\n",
      "Epoch 23/100\n",
      "1250/1250 [==============================] - 41s 32ms/step - loss: 1.5211 - accuracy: 0.4527 - val_loss: 1.5945 - val_accuracy: 0.4374\n",
      "Epoch 24/100\n",
      "1250/1250 [==============================] - 58s 46ms/step - loss: 1.5108 - accuracy: 0.4581 - val_loss: 1.6166 - val_accuracy: 0.4191\n"
     ]
    }
   ],
   "source": [
    "optimLR /= 10\n",
    "\n",
    "tf.keras.backend.clear_session()\n",
    "tf.random.set_seed(42)\n",
    "\n",
    "model = buildModel()\n",
    "\n",
    "early_stopping_cb = callbacks.EarlyStopping(patience=5,\n",
    "                                            restore_best_weights=True)\n",
    "model_checkpoint_cb = callbacks.ModelCheckpoint(\"my_cifar10_model.keras\",\n",
    "                                                save_best_only=True)\n",
    "\n",
    "optimizer = tf.keras.optimizers.Nadam(learning_rate=optimLR)\n",
    "model.compile(loss=\"sparse_categorical_crossentropy\", \n",
    "              optimizer=optimizer,\n",
    "              metrics=[\"accuracy\"])\n",
    "\n",
    "history = model.fit(xTrain, yTrain, epochs=100,\n",
    "                    validation_split=0.2,\n",
    "                    batch_size=32,\n",
    "                    callbacks=[early_stopping_cb, model_checkpoint_cb])"
   ]
  },
  {
   "cell_type": "code",
   "execution_count": 159,
   "id": "93b236fb-ad52-4343-9140-3828ced6ad3b",
   "metadata": {},
   "outputs": [
    {
     "data": {
      "image/png": "[encoded data removed]",
      "text/plain": [
       "<Figure size 800x500 with 1 Axes>"
      ]
     },
     "metadata": {},
     "output_type": "display_data"
    }
   ],
   "source": [
    "plt.figure(figsize=(8, 5))\n",
    "for key, style in zip(history.history, [\"g--\", \"y--.\", \"r-\", \"b-*\"]):\n",
    "    epochs = np.array(history.epoch) + (0 if key.startswith(\"val_\") else -0.5)\n",
    "    plt.plot(epochs, history.history[key], style, label=key, alpha=0.75)\n",
    "plt.xlabel(\"Epoch\")\n",
    "plt.axis([-0.5, 7, 0., 3.1])\n",
    "plt.legend()\n",
    "plt.grid()\n",
    "plt.show()"
   ]
  },
  {
   "cell_type": "markdown",
   "id": "530c6c24-cf4d-46a8-aef1-630f958fe3ba",
   "metadata": {},
   "source": [
    "Much better, we could try decreasing the LR a bit more or using a scheduler but now let's try to use Batch normalization and see if it helps convergence."
   ]
  },
  {
   "cell_type": "code",
   "execution_count": 162,
   "id": "d10cc54e-935f-4ea1-83be-516d948fa891",
   "metadata": {},
   "outputs": [],
   "source": [
    "def buildBNModel(nHiddenLayers=20, nHiddenNeurons=100):\n",
    "    inputLayer = layers.Input(shape=(32, 32, 3))\n",
    "    x = layers.Flatten()(inputLayer)\n",
    "    for _ in range(nHiddenLayers):\n",
    "        x = layers.Dense(nHiddenNeurons, \n",
    "                         kernel_initializer=\"he_normal\")(x)\n",
    "        x = layers.BatchNormalization()(x)\n",
    "        x = layers.Activation(\"swish\")(x)\n",
    "    outputLayer = layers.Dense(10, activation=\"softmax\")(x)\n",
    "    return tf.keras.Model(inputLayer, outputLayer)"
   ]
  },
  {
   "cell_type": "code",
   "execution_count": 166,
   "id": "9d6cc666-e643-4551-b4c1-dea2745a98d8",
   "metadata": {},
   "outputs": [
    {
     "name": "stdout",
     "output_type": "stream",
     "text": [
      "Epoch 1/3\n",
      "1250/1250 [==============================] - 47s 27ms/step - loss: 2.3459 - accuracy: 0.1545 - val_loss: 368280.0938 - val_accuracy: 0.0994\n",
      "Epoch 2/3\n",
      "1250/1250 [==============================] - 34s 27ms/step - loss: 10449327104.0000 - accuracy: 0.1013 - val_loss: 414105147359100928.0000 - val_accuracy: 0.0952\n",
      "Epoch 3/3\n",
      "1250/1250 [==============================] - 36s 29ms/step - loss: 6232538624.0000 - accuracy: 0.1002 - val_loss: 86343892992.0000 - val_accuracy: 0.0952\n"
     ]
    }
   ],
   "source": [
    "tf.keras.backend.clear_session()\n",
    "tf.random.set_seed(42)\n",
    "\n",
    "model = buildBNModel()\n",
    "\n",
    "optimizer = tf.keras.optimizers.Nadam(learning_rate=1e-5)\n",
    "\n",
    "model.compile(loss=\"sparse_categorical_crossentropy\", \n",
    "              optimizer=optimizer,\n",
    "              metrics=[\"accuracy\"])\n",
    "\n",
    "expLR = ExpLearningRate(factor=1)\n",
    "\n",
    "history = model.fit(xTrain, yTrain, epochs=3,\n",
    "                    validation_split=0.2,\n",
    "                    batch_size=32,\n",
    "                    callbacks=[expLR])"
   ]
  },
  {
   "cell_type": "code",
   "execution_count": 168,
   "id": "4f1ad5a2-f133-4b8b-88cc-7c2015342724",
   "metadata": {},
   "outputs": [
    {
     "data": {
      "image/png": "[encoded data removed]",
      "text/plain": [
       "<Figure size 640x480 with 1 Axes>"
      ]
     },
     "metadata": {},
     "output_type": "display_data"
    }
   ],
   "source": [
    "plt.plot(expLR.rates, expLR.lossi)\n",
    "plt.gca().set_xscale('log')\n",
    "plt.hlines([min(expLR.lossi)], \n",
    "           min(expLR.rates), expLR.rates[np.argmin(expLR.lossi)],\"r\", linestyles=\"--\")\n",
    "plt.vlines([expLR.rates[np.argmin(expLR.lossi)]], \n",
    "           0, min(expLR.lossi), \"r\", linestyles=\"--\")\n",
    "plt.plot(expLR.rates[np.argmin(expLR.lossi)], min(expLR.lossi), \"ro\")\n",
    "plt.axis([min(expLR.rates), max(expLR.rates), 0, expLR.lossi[0]])\n",
    "plt.grid()\n",
    "plt.xlabel(\"Learning rate\")\n",
    "plt.ylabel(\"Loss\");"
   ]
  },
  {
   "cell_type": "markdown",
   "id": "abf3e645-8244-493f-89dd-36c950b3370c",
   "metadata": {},
   "source": [
    "I've noticed that the approach of halving the max learning rate is not working properly, as the model doesn't get good performances or directly diverges. This time, I'll try to divide by 100"
   ]
  },
  {
   "cell_type": "code",
   "execution_count": 173,
   "id": "b9d6c441-d061-442f-816e-f31c0a9abcec",
   "metadata": {},
   "outputs": [
    {
     "data": {
      "text/plain": [
       "0.0036228447884321213"
      ]
     },
     "execution_count": 173,
     "metadata": {},
     "output_type": "execute_result"
    }
   ],
   "source": [
    "optimLR = expLR.rates[np.argmin(expLR.lossi)] / 100\n",
    "optimLR"
   ]
  },
  {
   "cell_type": "code",
   "execution_count": 174,
   "id": "c40f8921-4a88-4efe-b31e-44f2256aefe6",
   "metadata": {},
   "outputs": [
    {
     "name": "stdout",
     "output_type": "stream",
     "text": [
      "Epoch 1/100\n",
      "1250/1250 [==============================] - 58s 36ms/step - loss: 1.9707 - accuracy: 0.2709 - val_loss: 2.1168 - val_accuracy: 0.2583\n",
      "Epoch 2/100\n",
      "1250/1250 [==============================] - 49s 39ms/step - loss: 1.7731 - accuracy: 0.3603 - val_loss: 2.0689 - val_accuracy: 0.3171\n",
      "Epoch 3/100\n",
      "1250/1250 [==============================] - 45s 36ms/step - loss: 1.6987 - accuracy: 0.3910 - val_loss: 1.8686 - val_accuracy: 0.3665\n",
      "Epoch 4/100\n",
      "1250/1250 [==============================] - 63s 51ms/step - loss: 1.6475 - accuracy: 0.4091 - val_loss: 1.7359 - val_accuracy: 0.3965\n",
      "Epoch 5/100\n",
      "1250/1250 [==============================] - 43s 35ms/step - loss: 1.5964 - accuracy: 0.4324 - val_loss: 2.2812 - val_accuracy: 0.2891\n",
      "Epoch 6/100\n",
      "1250/1250 [==============================] - 37s 30ms/step - loss: 1.5554 - accuracy: 0.4451 - val_loss: 1.8586 - val_accuracy: 0.3463\n",
      "Epoch 7/100\n",
      "1250/1250 [==============================] - 56s 45ms/step - loss: 1.5168 - accuracy: 0.4621 - val_loss: 1.6527 - val_accuracy: 0.4254\n",
      "Epoch 8/100\n",
      "1250/1250 [==============================] - 60s 48ms/step - loss: 1.4771 - accuracy: 0.4751 - val_loss: 1.7492 - val_accuracy: 0.3684\n",
      "Epoch 9/100\n",
      "1250/1250 [==============================] - 45s 36ms/step - loss: 1.4413 - accuracy: 0.4880 - val_loss: 1.6069 - val_accuracy: 0.4376\n",
      "Epoch 10/100\n",
      "1250/1250 [==============================] - 73s 58ms/step - loss: 1.4124 - accuracy: 0.5025 - val_loss: 1.6816 - val_accuracy: 0.4243\n",
      "Epoch 11/100\n",
      "1250/1250 [==============================] - 67s 54ms/step - loss: 1.3753 - accuracy: 0.5140 - val_loss: 1.6970 - val_accuracy: 0.4169\n",
      "Epoch 12/100\n",
      "1250/1250 [==============================] - 63s 50ms/step - loss: 1.3470 - accuracy: 0.5285 - val_loss: 1.7952 - val_accuracy: 0.4096\n",
      "Epoch 13/100\n",
      "1250/1250 [==============================] - 44s 35ms/step - loss: 1.3172 - accuracy: 0.5381 - val_loss: 1.6181 - val_accuracy: 0.4203\n",
      "Epoch 14/100\n",
      "1250/1250 [==============================] - 41s 33ms/step - loss: 1.2989 - accuracy: 0.5418 - val_loss: 1.8937 - val_accuracy: 0.4069\n",
      "Epoch 15/100\n",
      "1250/1250 [==============================] - 46s 36ms/step - loss: 1.2767 - accuracy: 0.5542 - val_loss: 1.6882 - val_accuracy: 0.4300\n",
      "Epoch 16/100\n",
      "1250/1250 [==============================] - 37s 29ms/step - loss: 1.2467 - accuracy: 0.5616 - val_loss: 1.6970 - val_accuracy: 0.4357\n",
      "Epoch 17/100\n",
      "1250/1250 [==============================] - 43s 34ms/step - loss: 1.2269 - accuracy: 0.5707 - val_loss: 1.6022 - val_accuracy: 0.4521\n",
      "Epoch 18/100\n",
      "1250/1250 [==============================] - 39s 31ms/step - loss: 1.2116 - accuracy: 0.5746 - val_loss: 1.6294 - val_accuracy: 0.4522\n",
      "Epoch 19/100\n",
      "1250/1250 [==============================] - 56s 45ms/step - loss: 1.1950 - accuracy: 0.5814 - val_loss: 1.8070 - val_accuracy: 0.4356\n",
      "Epoch 20/100\n",
      "1250/1250 [==============================] - 49s 39ms/step - loss: 1.1753 - accuracy: 0.5910 - val_loss: 1.5288 - val_accuracy: 0.4821\n",
      "Epoch 21/100\n",
      "1250/1250 [==============================] - 43s 35ms/step - loss: 1.1578 - accuracy: 0.5944 - val_loss: 1.6076 - val_accuracy: 0.4529\n",
      "Epoch 22/100\n",
      "1250/1250 [==============================] - 55s 44ms/step - loss: 1.1378 - accuracy: 0.6008 - val_loss: 1.6015 - val_accuracy: 0.4617\n",
      "Epoch 23/100\n",
      "1250/1250 [==============================] - 62s 50ms/step - loss: 1.1228 - accuracy: 0.6095 - val_loss: 1.6908 - val_accuracy: 0.4419\n",
      "Epoch 24/100\n",
      "1250/1250 [==============================] - 47s 37ms/step - loss: 1.1090 - accuracy: 0.6111 - val_loss: 1.6250 - val_accuracy: 0.4710\n",
      "Epoch 25/100\n",
      "1250/1250 [==============================] - 46s 37ms/step - loss: 1.0928 - accuracy: 0.6177 - val_loss: 1.8057 - val_accuracy: 0.4168\n",
      "Epoch 26/100\n",
      "1250/1250 [==============================] - 47s 37ms/step - loss: 1.0872 - accuracy: 0.6206 - val_loss: 1.6866 - val_accuracy: 0.4357\n",
      "Epoch 27/100\n",
      "1250/1250 [==============================] - 57s 45ms/step - loss: 1.0720 - accuracy: 0.6264 - val_loss: 1.5444 - val_accuracy: 0.4779\n",
      "Epoch 28/100\n",
      "1250/1250 [==============================] - 62s 50ms/step - loss: 1.0557 - accuracy: 0.6326 - val_loss: 1.8019 - val_accuracy: 0.4349\n",
      "Epoch 29/100\n",
      "1250/1250 [==============================] - 38s 30ms/step - loss: 1.0488 - accuracy: 0.6314 - val_loss: 1.6422 - val_accuracy: 0.4673\n",
      "Epoch 30/100\n",
      "1250/1250 [==============================] - 41s 32ms/step - loss: 1.0308 - accuracy: 0.6425 - val_loss: 1.7164 - val_accuracy: 0.4589\n"
     ]
    }
   ],
   "source": [
    "tf.keras.backend.clear_session()\n",
    "tf.random.set_seed(42)\n",
    "\n",
    "model = buildBNModel()\n",
    "\n",
    "early_stopping_cb = callbacks.EarlyStopping(patience=10,\n",
    "                                            restore_best_weights=True)\n",
    "model_checkpoint_cb = callbacks.ModelCheckpoint(\"my_cifar10_model_bn.keras\",\n",
    "                                                save_best_only=True)\n",
    "\n",
    "optimizer = tf.keras.optimizers.Nadam(learning_rate=optimLR)\n",
    "model.compile(loss=\"sparse_categorical_crossentropy\", \n",
    "              optimizer=optimizer,\n",
    "              metrics=[\"accuracy\"])\n",
    "\n",
    "history = model.fit(xTrain, yTrain, epochs=100,\n",
    "                    validation_split=0.2,\n",
    "                    batch_size=32,\n",
    "                    callbacks=[early_stopping_cb, model_checkpoint_cb])"
   ]
  },
  {
   "cell_type": "markdown",
   "id": "41f39ee3-af5c-4f71-a7bb-e60591b70554",
   "metadata": {},
   "source": [
    "Using this smaller learning rate provides much better results. On top of this, applying batch normalization seems to have helped a lot as now the model takes just 9 epochs to surpass the best validation accuracy obtained by the model without BN (note that for that model we used a similar lr)"
   ]
  },
  {
   "cell_type": "markdown",
   "id": "630fb4e2-3d21-42c6-8202-9b644b3a3005",
   "metadata": {},
   "source": [
    "Also note that it takes more time to train each epoch but the results are better and the convergence is way faster! "
   ]
  },
  {
   "cell_type": "markdown",
   "id": "848e4a6a-3ab3-4881-9cf4-65b11b8c7127",
   "metadata": {},
   "source": [
    "## Now time for the self normalizing neural net"
   ]
  },
  {
   "cell_type": "markdown",
   "id": "4f7da704-f51a-4716-bf1a-c86fb66436bc",
   "metadata": {},
   "source": [
    "For the net to self normalize we have to change some details of our model:\n",
    "* The activation functions must be SELU\n",
    "* The initialization of the weights must be set to \"lecun_normal\"\n",
    "* We have to standardize the inputs"
   ]
  },
  {
   "cell_type": "code",
   "execution_count": 5,
   "id": "0a3d5d25-1e72-4c54-b012-5e2edefce074",
   "metadata": {},
   "outputs": [],
   "source": [
    "optimLR = 0.0003\n",
    "def buildSNModel(nHiddenLayers=20, nHiddenNeurons=100):\n",
    "    inputLayer = layers.Input(shape=(32, 32, 3))\n",
    "    x = layers.Flatten()(inputLayer)\n",
    "    for _ in range(nHiddenLayers):\n",
    "        x = layers.Dense(nHiddenNeurons, \n",
    "                         kernel_initializer=\"lecun_normal\")(x)\n",
    "        x = layers.Activation(\"selu\")(x)\n",
    "    outputLayer = layers.Dense(10, activation=\"softmax\")(x)\n",
    "    return tf.keras.Model(inputLayer, outputLayer)"
   ]
  },
  {
   "cell_type": "code",
   "execution_count": 6,
   "id": "7b05399c-ac96-4049-8907-e68e654ac55a",
   "metadata": {},
   "outputs": [
    {
     "name": "stderr",
     "output_type": "stream",
     "text": [
      "2024-10-22 14:25:57.826064: I tensorflow/core/common_runtime/process_util.cc:146] Creating new thread pool with default inter op setting: 2. Tune using inter_op_parallelism_threads for best performance.\n"
     ]
    },
    {
     "name": "stdout",
     "output_type": "stream",
     "text": [
      "Epoch 1/100\n",
      "1250/1250 [==============================] - 35s 23ms/step - loss: 1.8660 - accuracy: 0.3355 - val_loss: 1.7401 - val_accuracy: 0.3725\n",
      "Epoch 2/100\n",
      "1250/1250 [==============================] - 56s 45ms/step - loss: 1.6620 - accuracy: 0.4112 - val_loss: 1.6436 - val_accuracy: 0.4210\n",
      "Epoch 3/100\n",
      "1250/1250 [==============================] - 41s 33ms/step - loss: 1.5628 - accuracy: 0.4453 - val_loss: 1.5860 - val_accuracy: 0.4397\n",
      "Epoch 4/100\n",
      "1250/1250 [==============================] - 42s 33ms/step - loss: 1.4933 - accuracy: 0.4710 - val_loss: 1.5566 - val_accuracy: 0.4455\n",
      "Epoch 5/100\n",
      "1250/1250 [==============================] - 45s 36ms/step - loss: 1.4277 - accuracy: 0.4944 - val_loss: 1.5283 - val_accuracy: 0.4622\n",
      "Epoch 6/100\n",
      "1250/1250 [==============================] - 24s 19ms/step - loss: 1.3725 - accuracy: 0.5147 - val_loss: 1.4890 - val_accuracy: 0.4791\n",
      "Epoch 7/100\n",
      "1250/1250 [==============================] - 38s 31ms/step - loss: 1.3168 - accuracy: 0.5365 - val_loss: 1.5255 - val_accuracy: 0.4766\n",
      "Epoch 8/100\n",
      "1250/1250 [==============================] - 31s 25ms/step - loss: 1.2737 - accuracy: 0.5494 - val_loss: 1.5013 - val_accuracy: 0.4847\n",
      "Epoch 9/100\n",
      "1250/1250 [==============================] - 43s 34ms/step - loss: 1.2304 - accuracy: 0.5677 - val_loss: 1.4925 - val_accuracy: 0.4888\n",
      "Epoch 10/100\n",
      "1250/1250 [==============================] - 63s 50ms/step - loss: 1.1823 - accuracy: 0.5834 - val_loss: 1.5024 - val_accuracy: 0.4902\n",
      "Epoch 11/100\n",
      "1250/1250 [==============================] - 46s 37ms/step - loss: 1.1456 - accuracy: 0.5975 - val_loss: 1.5432 - val_accuracy: 0.5031\n",
      "Epoch 12/100\n",
      "1250/1250 [==============================] - 39s 31ms/step - loss: 1.1067 - accuracy: 0.6131 - val_loss: 1.4998 - val_accuracy: 0.5032\n",
      "Epoch 13/100\n",
      "1250/1250 [==============================] - 43s 35ms/step - loss: 1.0739 - accuracy: 0.6219 - val_loss: 1.5217 - val_accuracy: 0.4958\n",
      "Epoch 14/100\n",
      "1250/1250 [==============================] - 49s 39ms/step - loss: 1.0369 - accuracy: 0.6368 - val_loss: 1.5179 - val_accuracy: 0.5066\n",
      "Epoch 15/100\n",
      "1250/1250 [==============================] - 48s 38ms/step - loss: 1.0057 - accuracy: 0.6507 - val_loss: 1.5928 - val_accuracy: 0.5013\n",
      "Epoch 16/100\n",
      "1250/1250 [==============================] - 71s 57ms/step - loss: 0.9747 - accuracy: 0.6589 - val_loss: 1.5906 - val_accuracy: 0.4967\n"
     ]
    }
   ],
   "source": [
    "tf.keras.backend.clear_session()\n",
    "tf.random.set_seed(42)\n",
    "\n",
    "model = buildSNModel()\n",
    "\n",
    "early_stopping_cb = callbacks.EarlyStopping(patience=10,\n",
    "                                            restore_best_weights=True)\n",
    "model_checkpoint_cb = callbacks.ModelCheckpoint(\"my_cifar10_model_sn.keras\",\n",
    "                                                save_best_only=True)\n",
    "\n",
    "xMeans = xTrain.mean(axis=0)\n",
    "xStds = xTrain.std(axis=0)\n",
    "xTrainScaled = (xTrain - xMeans) / xStds\n",
    "xTestScaled = (xTest - xMeans) / xStds\n",
    "\n",
    "optimizer = tf.keras.optimizers.Nadam(learning_rate=optimLR)\n",
    "model.compile(loss=\"sparse_categorical_crossentropy\", \n",
    "              optimizer=optimizer,\n",
    "              metrics=[\"accuracy\"])\n",
    "\n",
    "history = model.fit(xTrainScaled, yTrain, epochs=100,\n",
    "                    validation_split=0.2,\n",
    "                    batch_size=32,\n",
    "                    callbacks=[early_stopping_cb, model_checkpoint_cb])"
   ]
  },
  {
   "cell_type": "markdown",
   "id": "657e55ce-54fe-4bf4-96a4-6d380533f1a5",
   "metadata": {},
   "source": [
    "This is the model that yields the best results. Even though it's supposed to be faster to train (because it doesn't perform the BN calculations), I belive it took similar time as the BN model because I was using my computer while it was training. Still, the convergence is faster"
   ]
  },
  {
   "cell_type": "markdown",
   "id": "9cdb850d-909a-4056-b348-4f3aa684e575",
   "metadata": {},
   "source": [
    "The model is overfitting the dataset (we got 63% accuracy in the train set and just 45% in the val), so let's apply Dropout as a regulizer. Note that for the network to keep its self-normalization ability we have to use AlphaDropout instead of the regular one, this helps keep the means and variances under control troughout the net."
   ]
  },
  {
   "cell_type": "markdown",
   "id": "dd61fea3-371b-4b1f-890c-763a92fa98a2",
   "metadata": {},
   "source": [
    "Apparently the AlphaDropout layer from tensorflow is broken so I will try with the keras version. Also, I noticed that adding a dropout layer after each dense layer makes the model underfit the data, so we'll just add a couple layers."
   ]
  },
  {
   "cell_type": "code",
   "execution_count": 7,
   "id": "8b258772-8d1e-4eb6-9850-c7df755c0fd0",
   "metadata": {},
   "outputs": [],
   "source": [
    "dropoutRate = 0.1\n",
    "def buildSNModelDO(nHiddenLayers=20, nHiddenNeurons=100):\n",
    "    inputLayer = layers.Input(shape=(32, 32, 3))\n",
    "    x = layers.Flatten()(inputLayer)\n",
    "    x = layers.Dense(nHiddenNeurons, \n",
    "                     kernel_initializer=\"lecun_normal\")(x)\n",
    "    x = layers.Activation(\"selu\")(x)\n",
    "    x = keras.layers.AlphaDropout(dropoutRate)(x)\n",
    "    for _ in range(nHiddenLayers):\n",
    "        x = layers.Dense(nHiddenNeurons, \n",
    "                         kernel_initializer=\"lecun_normal\")(x)\n",
    "        x = layers.Activation(\"selu\")(x)\n",
    "    x = keras.layers.AlphaDropout(dropoutRate)(x)\n",
    "    outputLayer = layers.Dense(10, activation=\"softmax\")(x)\n",
    "    return tf.keras.Model(inputLayer, outputLayer)"
   ]
  },
  {
   "cell_type": "code",
   "execution_count": 8,
   "id": "8c44c385-5a50-4aae-b422-a9b35548bebf",
   "metadata": {},
   "outputs": [
    {
     "name": "stdout",
     "output_type": "stream",
     "text": [
      "Epoch 1/100\n",
      "1250/1250 [==============================] - 48s 35ms/step - loss: 1.9568 - accuracy: 0.3016 - val_loss: 1.7663 - val_accuracy: 0.3769\n",
      "Epoch 2/100\n",
      "1250/1250 [==============================] - 28s 22ms/step - loss: 1.7183 - accuracy: 0.3881 - val_loss: 1.7124 - val_accuracy: 0.4013\n",
      "Epoch 3/100\n",
      "1250/1250 [==============================] - 31s 24ms/step - loss: 1.6331 - accuracy: 0.4201 - val_loss: 1.6255 - val_accuracy: 0.4372\n",
      "Epoch 4/100\n",
      "1250/1250 [==============================] - 32s 25ms/step - loss: 1.5721 - accuracy: 0.4435 - val_loss: 1.6466 - val_accuracy: 0.4366\n",
      "Epoch 5/100\n",
      "1250/1250 [==============================] - 30s 24ms/step - loss: 1.5244 - accuracy: 0.4607 - val_loss: 1.6234 - val_accuracy: 0.4468\n",
      "Epoch 6/100\n",
      "1250/1250 [==============================] - 44s 35ms/step - loss: 1.4852 - accuracy: 0.4754 - val_loss: 1.5850 - val_accuracy: 0.4618\n",
      "Epoch 7/100\n",
      "1250/1250 [==============================] - 43s 35ms/step - loss: 1.4452 - accuracy: 0.4918 - val_loss: 1.5597 - val_accuracy: 0.4793\n",
      "Epoch 8/100\n",
      "1250/1250 [==============================] - 61s 49ms/step - loss: 1.4160 - accuracy: 0.5007 - val_loss: 1.5422 - val_accuracy: 0.4727\n",
      "Epoch 9/100\n",
      "1250/1250 [==============================] - 31s 25ms/step - loss: 1.3826 - accuracy: 0.5118 - val_loss: 1.5678 - val_accuracy: 0.4724\n",
      "Epoch 10/100\n",
      "1250/1250 [==============================] - 44s 35ms/step - loss: 1.3533 - accuracy: 0.5240 - val_loss: 1.5508 - val_accuracy: 0.4901\n",
      "Epoch 11/100\n",
      "1250/1250 [==============================] - 146s 117ms/step - loss: 1.3288 - accuracy: 0.5352 - val_loss: 1.5824 - val_accuracy: 0.4863\n",
      "Epoch 12/100\n",
      "1250/1250 [==============================] - 46s 36ms/step - loss: 1.3064 - accuracy: 0.5407 - val_loss: 1.5132 - val_accuracy: 0.5038\n",
      "Epoch 13/100\n",
      "1250/1250 [==============================] - 30s 24ms/step - loss: 1.2836 - accuracy: 0.5507 - val_loss: 1.5391 - val_accuracy: 0.4842\n",
      "Epoch 14/100\n",
      "1250/1250 [==============================] - 50s 40ms/step - loss: 1.2682 - accuracy: 0.5565 - val_loss: 1.5147 - val_accuracy: 0.5067\n",
      "Epoch 15/100\n",
      "1250/1250 [==============================] - 51s 41ms/step - loss: 1.2435 - accuracy: 0.5639 - val_loss: 1.5447 - val_accuracy: 0.4963\n",
      "Epoch 16/100\n",
      "1250/1250 [==============================] - 75s 60ms/step - loss: 1.2274 - accuracy: 0.5727 - val_loss: 1.5035 - val_accuracy: 0.5125\n",
      "Epoch 17/100\n",
      "1250/1250 [==============================] - 52s 41ms/step - loss: 1.2133 - accuracy: 0.5790 - val_loss: 1.5700 - val_accuracy: 0.5045\n",
      "Epoch 18/100\n",
      "1250/1250 [==============================] - 52s 41ms/step - loss: 1.1973 - accuracy: 0.5823 - val_loss: 1.5853 - val_accuracy: 0.4985\n",
      "Epoch 19/100\n",
      "1250/1250 [==============================] - 44s 35ms/step - loss: 1.1851 - accuracy: 0.5850 - val_loss: 1.5073 - val_accuracy: 0.5093\n",
      "Epoch 20/100\n",
      "1250/1250 [==============================] - 62s 50ms/step - loss: 1.1654 - accuracy: 0.5938 - val_loss: 1.5532 - val_accuracy: 0.5040\n",
      "Epoch 21/100\n",
      "1250/1250 [==============================] - 45s 36ms/step - loss: 1.1463 - accuracy: 0.5988 - val_loss: 1.5605 - val_accuracy: 0.5110\n",
      "Epoch 22/100\n",
      "1250/1250 [==============================] - 47s 38ms/step - loss: 1.1347 - accuracy: 0.6059 - val_loss: 1.5784 - val_accuracy: 0.5140\n",
      "Epoch 23/100\n",
      "1250/1250 [==============================] - 38s 31ms/step - loss: 1.1244 - accuracy: 0.6075 - val_loss: 1.5822 - val_accuracy: 0.5117\n",
      "Epoch 24/100\n",
      "1250/1250 [==============================] - 33s 26ms/step - loss: 1.1125 - accuracy: 0.6132 - val_loss: 1.6367 - val_accuracy: 0.5092\n",
      "Epoch 25/100\n",
      "1250/1250 [==============================] - 39s 31ms/step - loss: 1.0913 - accuracy: 0.6176 - val_loss: 1.5856 - val_accuracy: 0.5113\n",
      "Epoch 26/100\n",
      "1250/1250 [==============================] - 41s 32ms/step - loss: 1.0873 - accuracy: 0.6212 - val_loss: 1.6360 - val_accuracy: 0.5128\n"
     ]
    }
   ],
   "source": [
    "tf.keras.backend.clear_session()\n",
    "tf.random.set_seed(42)\n",
    "\n",
    "model = buildSNModelDO()\n",
    "\n",
    "early_stopping_cb = callbacks.EarlyStopping(patience=10,\n",
    "                                            restore_best_weights=True)\n",
    "model_checkpoint_cb = callbacks.ModelCheckpoint(\"my_cifar10_model_sn_do.keras\",\n",
    "                                                save_best_only=True)\n",
    "\n",
    "optimizer = tf.keras.optimizers.Nadam(learning_rate=optimLR)\n",
    "model.compile(loss=\"sparse_categorical_crossentropy\", \n",
    "              optimizer=optimizer,\n",
    "              metrics=[\"accuracy\"])\n",
    "\n",
    "history = model.fit(xTrainScaled, yTrain, epochs=100,\n",
    "                    validation_split=0.2,\n",
    "                    batch_size=32,\n",
    "                    callbacks=[early_stopping_cb, model_checkpoint_cb])"
   ]
  },
  {
   "cell_type": "markdown",
   "id": "67afec20-cf7c-4f90-a746-83345f8bf9eb",
   "metadata": {},
   "source": [
    "We can define a new function to apply Monte Carlo Dropout, we don't have to train the model again, just call it in training mode to make several predictions and then average them."
   ]
  },
  {
   "cell_type": "code",
   "execution_count": 9,
   "id": "01195973-5516-4909-b955-8d0327388218",
   "metadata": {},
   "outputs": [],
   "source": [
    "def mcDropoutProbs(mc_model, X, nSamples=10):\n",
    "    Y_probas = [mc_model(X, training=True) for sample in range(nSamples)]\n",
    "    return np.mean(Y_probas, axis=0)\n",
    "\n",
    "def mcDropoutClass(mc_model, X, nSamples=10):\n",
    "    Y_probas = mcDropoutProbs(mc_model, X, nSamples)\n",
    "    return Y_probas.argmax(axis=1)"
   ]
  },
  {
   "cell_type": "code",
   "execution_count": 10,
   "id": "ecf05b7f-18f5-4df6-8233-cd6da3cf50d5",
   "metadata": {},
   "outputs": [
    {
     "data": {
      "text/plain": [
       "0.60364"
      ]
     },
     "execution_count": 10,
     "metadata": {},
     "output_type": "execute_result"
    }
   ],
   "source": [
    "tf.random.set_seed(42)\n",
    "\n",
    "y_pred = mcDropoutClass(model, xTrainScaled)\n",
    "accuracy = (y_pred == yTrain[:, 0]).mean()\n",
    "accuracy"
   ]
  },
  {
   "cell_type": "markdown",
   "id": "20eeda94-0637-493a-9ec4-dbb7ac1aa749",
   "metadata": {},
   "source": [
    "Lastly, let's try an scheduler for the training to see if we can get not only better accuracy but also faster training."
   ]
  }
 ],
 "metadata": {
  "kernelspec": {
   "display_name": "Python 3 (ipykernel)",
   "language": "python",
   "name": "python3"
  },
  "language_info": {
   "codemirror_mode": {
    "name": "ipython",
    "version": 3
   },
   "file_extension": ".py",
   "mimetype": "text/x-python",
   "name": "python",
   "nbconvert_exporter": "python",
   "pygments_lexer": "ipython3",
   "version": "3.11.5"
  }
 },
 "nbformat": 4,
 "nbformat_minor": 5
}
